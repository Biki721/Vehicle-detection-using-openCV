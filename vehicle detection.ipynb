{
 "cells": [
  {
   "cell_type": "code",
   "execution_count": 1,
   "id": "32185915",
   "metadata": {},
   "outputs": [],
   "source": [
    "import cv2\n",
    "import imutils"
   ]
  },
  {
   "cell_type": "code",
   "execution_count": 7,
   "id": "a42a4558",
   "metadata": {},
   "outputs": [],
   "source": [
    "car_cascade = cv2.CascadeClassifier('cars.xml')\n",
    "cam = cv2.VideoCapture(0)\n",
    "while True:\n",
    "    text = 'No vehicles'\n",
    "    _,img = cam.read()\n",
    "    img = imutils.resize(img,width = 600)\n",
    "    gray_img = cv2.cvtColor(img,cv2.COLOR_BGR2GRAY)\n",
    "    cars = car_cascade.detectMultiScale(gray_img,1.1,1)\n",
    "    for (x,y,w,h) in cars:\n",
    "        cv2.rectangle(img,(x,y),(x+w,y+h),(0,0,255),2)\n",
    "        text = f'{len(cars)} vehicles detected'\n",
    "    cv2.putText(img,text,(10,20),cv2.FONT_HERSHEY_COMPLEX,0.5,(0,255,0),2)\n",
    "    cv2.imshow('frame',img)\n",
    "    if cv2.waitKey(10) == 27:\n",
    "        break\n",
    "cam.release()\n",
    "cv2.destroyAllWindows()"
   ]
  },
  {
   "cell_type": "code",
   "execution_count": 2,
   "id": "0c300783",
   "metadata": {},
   "outputs": [],
   "source": []
  },
  {
   "cell_type": "code",
   "execution_count": null,
   "id": "989849ee",
   "metadata": {},
   "outputs": [],
   "source": []
  }
 ],
 "metadata": {
  "kernelspec": {
   "display_name": "Python 3",
   "language": "python",
   "name": "python3"
  },
  "language_info": {
   "codemirror_mode": {
    "name": "ipython",
    "version": 3
   },
   "file_extension": ".py",
   "mimetype": "text/x-python",
   "name": "python",
   "nbconvert_exporter": "python",
   "pygments_lexer": "ipython3",
   "version": "3.8.11"
  }
 },
 "nbformat": 4,
 "nbformat_minor": 5
}
